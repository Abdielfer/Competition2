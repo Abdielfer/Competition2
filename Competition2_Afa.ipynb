{
 "cells": [
  {
   "cell_type": "code",
   "execution_count": 17,
   "metadata": {},
   "outputs": [],
   "source": [
    "import numpy as np\n",
    "from numpy import random\n",
    "import pandas as pd\n",
    "import joblib\n",
    "import pickle\n",
    "import matplotlib.pyplot as plt\n",
    "from matplotlib import pyplot\n",
    "import math, decimal\n",
    "from math import exp\n",
    "import seaborn as sns\n",
    "import sklearn as sk\n",
    "from sklearn import metrics\n",
    "from sklearn.model_selection import train_test_split, RandomizedSearchCV,GridSearchCV \n",
    "from sklearn.ensemble import RandomForestClassifier\n",
    "from sklearn.metrics import accuracy_score,roc_curve, auc, roc_auc_score, f1_score\n",
    "from sklearn.calibration import calibration_curve, CalibrationDisplay\n",
    "from xgboost import XGBClassifier,XGBRFClassifier\n",
    "from collections import Counter\n",
    "seedRF =50\n"
   ]
  },
  {
   "cell_type": "code",
   "execution_count": null,
   "metadata": {},
   "outputs": [],
   "source": [
    "### Data manipulation and helper methods  ###\n",
    "def meanStd(dataset):\n",
    "    '''\n",
    "    dataset_minmax(dataset)\n",
    "    return a list like {min:#,max:#}\n",
    "    # Find the min and std values for each column\n",
    "    '''\n",
    "    col = dataset.shape[1]\n",
    "    meanVal, stdVal = 0,0\n",
    "    stats = list()\n",
    "    for i in range(col):\n",
    "        val = dataset.iloc[:, i]\n",
    "        meanVal = np.mean(val)\n",
    "        stdVal = np.std(val)\n",
    "        stats.append([meanVal,stdVal])\n",
    "    return stats\n",
    "\n",
    "def standardize_data(dataset, mean_std):\n",
    "    '''\n",
    "    standardize_data(dataset, mean_std)\n",
    "    @mean_std: @arguent: list of min/max valuer per column {min:#,max:#}\n",
    "    # Rescale dataset columns to the range 0-1\n",
    "    '''\n",
    "    col = dataset.shape[1]\n",
    "    row = dataset.shape[0]\n",
    "    for i in range(1,col):\n",
    "        for n in range(row):\n",
    "            dataset.iloc[n,i] -= mean_std[i][0]\n",
    "            dataset.iloc[n,i] /= mean_std[i][1]\n",
    "    return dataset\n"
   ]
  },
  {
   "cell_type": "code",
   "execution_count": 4,
   "metadata": {},
   "outputs": [],
   "source": [
    "                ## uncoment to apply\n",
    "####    importing original datasets and filling NaN values \n",
    "# train = pd.read_csv(\"train.csv\", index_col = None)\n",
    "# y = train[['LABELS']]\n",
    "# ## x = pd.read_csv(\"x_standardized.csv\", index_col = None) # to import sandardized dataset\n",
    "# x = train.drop('LABELS', axis=1)\n",
    "# ## Correction of empty values with means by columns\n",
    "# xMean = x.mean()\n",
    "# x = x.fillna(xMean)\n",
    "# test_nolabels = pd.read_csv(\"test_nolabels.csv\", index_col = None)\n",
    "# test_nolabels = test_nolabels.fillna(xMean)\n",
    "\n",
    "###     Replacing columns of elevation and slope by yearly means\n",
    "# toposElevation = {\"topo_elevation_jan\",'topo_elevation_feb','topo_elevation_mar','topo_elevation_apr','topo_elevation_may','topo_elevation_jun','topo_elevation_jul','topo_elevation_aug','topo_elevation_sep','topo_elevation_oct','topo_elevation_nov','topo_elevation_dec'}\n",
    "# topoSlope = {'topo_slope_jan','topo_slope_feb','topo_slope_mar','topo_slope_apr','topo_slope_may','topo_slope_aug','topo_slope_jun','topo_slope_jul','topo_slope_sep','topo_slope_oct','topo_slope_nov','topo_slope_dec'}\n",
    "# topoElevationDF = x[toposElevation]\n",
    "# topoElevationMean = topoElevationDF.mean(axis=1)\n",
    "# x = x.drop(toposElevation,axis=1)\n",
    "# x['topoElevationMean'] = topoElevationMean\n",
    "# topoSlopeDF = x[topoSlope]\n",
    "# topoSlopeMean = topoSlopeDF.mean(axis=1)\n",
    "# x = x.drop(topoSlope, axis=1)\n",
    "# x['topoSlope'] = topoSlopeMean"
   ]
  },
  {
   "cell_type": "code",
   "execution_count": 16,
   "metadata": {},
   "outputs": [],
   "source": [
    "     ## uncoment to apply\n",
    "# #preprocessing No_label datase:\n",
    "# test_nolabels = test_nolabels.fillna(xMean)\n",
    "# test_nolabels = test_nolabels.drop(toposElevation, axis=1)\n",
    "# test_nolabels = test_nolabels.drop(topoSlope, axis=1)\n",
    "# test_nolabels['topoElevationMean'] = topoElevationMean\n",
    "# test_nolabels['topoSlope'] = topoSlopeMean\n",
    "# ## standardizing test_nolabels\n",
    "# mean_std_x_noLabel = meanStd(test_nolabels)\n",
    "# test_nolabels = standardize_data(test_nolabels, mean_std_x_noLabel)"
   ]
  },
  {
   "cell_type": "code",
   "execution_count": 19,
   "metadata": {},
   "outputs": [],
   "source": [
    "#### working with standardized dataSets\n",
    "train = pd.read_csv(\"train.csv\", index_col = None)\n",
    "y = train[['LABELS']]\n",
    "x = pd.read_csv(\"x_standardized.csv\", index_col = None)\n",
    "test_nolabels = pd.read_csv(\"nonLabeled_standardized.csv\", index_col = None)"
   ]
  },
  {
   "cell_type": "code",
   "execution_count": 20,
   "metadata": {},
   "outputs": [
    {
     "name": "stdout",
     "output_type": "stream",
     "text": [
      "(62000, 196)\n",
      "(1200, 196)\n"
     ]
    }
   ],
   "source": [
    "print(np.shape(x))\n",
    "print(np.shape(test_nolabels))\n"
   ]
  },
  {
   "cell_type": "code",
   "execution_count": 82,
   "metadata": {},
   "outputs": [],
   "source": [
    "x_train, x_validation, y_train, y_validation = train_test_split( x,y, test_size=0.2)\n",
    "y_train = (np.array(y_train).astype('int')).ravel()\n",
    "y_validation = (np.array(y_validation).astype('int')).ravel()"
   ]
  },
  {
   "cell_type": "code",
   "execution_count": null,
   "metadata": {},
   "outputs": [],
   "source": [
    "## Data shape exploration\n",
    "print(\"\",np.shape(x_train),\"  :\",np.shape(x_validation) )\n",
    "print(\"Label balance on Training set: \", \"\\n\", y_train['LABELS'].value_counts())\n",
    "print(\"Label balance on Validation set: \", \"\\n\", y_validation['LABELS'].value_counts())\n",
    "print(\"Label balance on Validation set: \", \"\\n\", y_validation['LABELS'].value_counts())\n"
   ]
  },
  {
   "cell_type": "code",
   "execution_count": 7,
   "metadata": {},
   "outputs": [],
   "source": [
    "### Some helpers function\n",
    "# To adapt the prediction to Kaggel format of submission \n",
    "def formating_prediction(predictions): \n",
    "        '''\n",
    "        Return the prediction in the Kaggle format submition\n",
    "        @hypotesis : column of classes \n",
    "        '''\n",
    "        y_hat = pd.DataFrame({'S.No' : [],'LABELS' : []}, dtype=np.int8) \n",
    "        for i in range(len(predictions)):\n",
    "            y_hat.loc[i] = [i,predictions[i]]\n",
    "        return pd.DataFrame(data = y_hat) \n",
    "\n",
    "def predictOnSet(model, x_test):\n",
    "    prediction = model.predict(x_test)\n",
    "    return prediction\n",
    "\n",
    "def savingModels(classifier, modelFileName):\n",
    "    '''\n",
    "    NOTE: Do not forget the extention = *.pkl\n",
    "    Save as : 'modelFileName.pkl'\n",
    "    '''\n",
    "    joblib.dump(classifier, modelFileName)\n",
    "\n",
    "\n",
    "def importModel(modefname):\n",
    "    model = joblib.load(modefname)\n",
    "    return model\n",
    "\n",
    "def savePrediction(prediction, filename):\n",
    "    '''\n",
    "    Save predictions\n",
    "    @argument: filename: Remenber EXTENTION 'filename.csv'\n",
    "    '''\n",
    "    prediction = prediction.astype('int32') #exsure prediction as integer\n",
    "    predictions_DF = formating_prediction(prediction)\n",
    "    return predictions_DF.to_csv(filename, index = None)\n",
    "\n",
    "## modle evaluation\n",
    "def metric_RocAuc(y_probability, y_validation, estimator_name):\n",
    "    '''\n",
    "    Calculate and plt ROC metric\n",
    "    @argument: y_probability : the probability class=1.\n",
    "    @argument: y_validation: True labels.\n",
    "    fpr, tpr = false_positive, true_positive.\n",
    "    Return: \"false_positive\" and \"true_positive\", ROC_auc metric.\n",
    "    '''\n",
    "    fpr, tpr, _ = roc_curve(y_validation, y_probability) \n",
    "    roc_auc = auc(fpr, tpr)\n",
    "    fig, axes = plt.subplots(constrained_layout=True,figsize=(5,3), dpi=150)\n",
    "    fig.suptitle(estimator_name)\n",
    "    axes.plot([0, 1], [0, 1], color= 'k',linestyle=\"--\") # perfect fit \n",
    "    display = metrics.RocCurveDisplay(fpr=fpr, tpr=tpr, roc_auc=roc_auc,\n",
    "                                       estimator_name=estimator_name)\n",
    "    display.plot(ax=axes)\n",
    "    return fpr, tpr, roc_auc\n",
    "\n",
    "## Show some evaluation criteria on the clasifier\n",
    "def evaluate_model(x_train, y_train, x_validation, y_validation, classifier):\n",
    "    features = x_train.columns\n",
    "    validation_Prediction = classifier.predict(x_validation)\n",
    "    validation_PredictedProb = classifier.predict_proba(x_validation)[:, 1]\n",
    "    ### ROC metric and curve #####\n",
    "    clasifierName = type(classifier).__name__\n",
    "    metric_RocAuc(validation_PredictedProb, y_validation,clasifierName)\n",
    "    fi_model = pd.DataFrame({'feature': features,\n",
    "                   'importance': classifier.feature_importances_}).\\\n",
    "                    sort_values('importance', ascending = False)\n",
    "    clasifierNameExtended = clasifierName + \"_info_fi.csv\"     \n",
    "    fi_model.to_csv(clasifierNameExtended, index = None)\n",
    "    return fi_model"
   ]
  },
  {
   "cell_type": "code",
   "execution_count": null,
   "metadata": {},
   "outputs": [],
   "source": [
    "#### Ramdomized RF  ####\n",
    "# Hyperparameter grid NOTE: Grid search was transformed several time to enlage the exploration. \n",
    "# Best ramdom seach grid has been publiched in the Report\n",
    "param_grid = {\n",
    "    'n_estimators': np.linspace(10, 400,20).astype(int),\n",
    "    'max_depth': [None] + list(np.linspace(3, 20).astype(int)),\n",
    "    'max_features': ['auto', 'sqrt', None] + list(np.arange(0.5, 1, 0.1)),\n",
    "    'max_leaf_nodes': [None] + list(np.linspace(10, 50, 500).astype(int)),\n",
    "    'min_samples_split': [2, 5, 10],\n",
    "    'bootstrap': [True, False]\n",
    "}\n",
    "# Estimator for use in random search\n",
    "estimator = RandomForestClassifier(random_state = seedRF)\n",
    "# Create the random search model\n",
    "rs = RandomizedSearchCV(estimator, param_grid, n_jobs = -1, \n",
    "                        scoring = 'roc_auc', cv = 3, \n",
    "                        n_iter = 10, verbose = 1, random_state=seedRF)\n",
    "# Random searsh  \n",
    "y_train = np.array(y_train)rs.fit(x_train, y_train).ravel()\n",
    "\n",
    "print(rs.best_params_, \"\\n\")\n",
    "### Working with best estimator from RandomizedSearch \n",
    "best_model = rs.best_estimator_\n",
    "savingModels(best_model, \"rf_RandomSearch.pkl\")\n",
    "## Evaluating ROC Curve and extracting features priority\n",
    "fi_model = evaluate_model(x_train, y_train, x_validation, y_validation, test_nolabels_prediction)\n",
    "## Predicting on No_Labeled dataset and saving prediction ready to submit\n",
    "# test_nolabels_prediction = predictOnSet(best_model, test_nolabels)\n",
    "# savePrediction(test_nolabels_prediction, 'first_rfSearch_noLabelPrediction.csv')"
   ]
  },
  {
   "cell_type": "code",
   "execution_count": 25,
   "metadata": {},
   "outputs": [
    {
     "data": {
      "text/plain": [
       "RandomForestClassifier(criterion='entropy', n_estimators=200, random_state=42)"
      ]
     },
     "execution_count": 25,
     "metadata": {},
     "output_type": "execute_result"
    }
   ],
   "source": [
    "model = joblib.load(\"randomforestmodel.pkl\")\n",
    "model.fit(x_train, y_train)"
   ]
  },
  {
   "cell_type": "code",
   "execution_count": 50,
   "metadata": {},
   "outputs": [
    {
     "name": "stdout",
     "output_type": "stream",
     "text": [
      "RandomForestClassifier(max_depth=8, max_features=0.30000000000000004,\n",
      "                       max_leaf_nodes=37, n_estimators=377, random_state=50)\n"
     ]
    }
   ],
   "source": [
    "print(model)"
   ]
  },
  {
   "cell_type": "code",
   "execution_count": null,
   "metadata": {},
   "outputs": [],
   "source": [
    "## XGBClassifier\n",
    "\n",
    "estimator = XGBClassifier(use_label_encoder=False,subsample=0.9, colsample_bynode=0.2)\n",
    "param_grid = {\n",
    "    'n_estimators': [377],\n",
    "    'max_depth': [8],\n",
    "    'max_leaf_nodes':[37],\n",
    "    'max_features' : [0.30000000000000004],\n",
    "    'random_state' :[50]\n",
    "}\n",
    "# Create the random search model\n",
    "rs = RandomizedSearchCV(estimator, param_grid, n_jobs = -1, \n",
    "                        scoring = 'roc_auc', cv = 3, \n",
    "                        n_iter = 4, verbose = 1, random_state=47)\n",
    "\n",
    "rs.fit(x_train, y_train)\n",
    "print(rs.best_params_, \"\\n\")\n",
    "model = rs.best_estimator_\n",
    "\n",
    "savingModels(model, \"XGBCl_bestRF_Standard.pkl\")\n",
    "\n",
    "# To monitor evolution on mode.fit() and find the early soping point\n",
    "eval_set = [(x_validation, y_validation)]\n",
    "model.fit(x_train, y_train, early_stopping_rounds=10, eval_metric=\"error\", eval_set=eval_set, verbose=True)\n",
    "\n"
   ]
  },
  {
   "cell_type": "code",
   "execution_count": null,
   "metadata": {},
   "outputs": [],
   "source": [
    "model = joblib.load(\"XGBCl_bestRF_Standard.pkl\")"
   ]
  },
  {
   "cell_type": "code",
   "execution_count": 83,
   "metadata": {},
   "outputs": [
    {
     "name": "stdout",
     "output_type": "stream",
     "text": [
      "[21:59:49] WARNING: /Users/runner/work/xgboost/xgboost/src/learner.cc:576: \n",
      "Parameters: { \"max_features\", \"max_leaf_nodes\" } might not be used.\n",
      "\n",
      "  This could be a false alarm, with some parameters getting used by language bindings but\n",
      "  then being mistakenly passed down to XGBoost core, or some parameter actually being used\n",
      "  but getting flagged wrongly here. Please open an issue if you find any such cases.\n",
      "\n",
      "\n",
      "[0]\tvalidation_0-error:0.19581\tvalidation_0-logloss:0.57785\tvalidation_1-error:0.22589\tvalidation_1-logloss:0.58882\n",
      "[1]\tvalidation_0-error:0.17179\tvalidation_0-logloss:0.50566\tvalidation_1-error:0.20436\tvalidation_1-logloss:0.52372\n",
      "[2]\tvalidation_0-error:0.16327\tvalidation_0-logloss:0.45914\tvalidation_1-error:0.19645\tvalidation_1-logloss:0.48341\n",
      "[3]\tvalidation_0-error:0.15673\tvalidation_0-logloss:0.42377\tvalidation_1-error:0.19024\tvalidation_1-logloss:0.45434\n",
      "[4]\tvalidation_0-error:0.15006\tvalidation_0-logloss:0.39626\tvalidation_1-error:0.18774\tvalidation_1-logloss:0.43329\n",
      "[5]\tvalidation_0-error:0.14246\tvalidation_0-logloss:0.37222\tvalidation_1-error:0.18427\tvalidation_1-logloss:0.41677\n",
      "[6]\tvalidation_0-error:0.13728\tvalidation_0-logloss:0.35514\tvalidation_1-error:0.18024\tvalidation_1-logloss:0.40532\n",
      "[7]\tvalidation_0-error:0.13218\tvalidation_0-logloss:0.34057\tvalidation_1-error:0.17968\tvalidation_1-logloss:0.39648\n",
      "[8]\tvalidation_0-error:0.12639\tvalidation_0-logloss:0.32577\tvalidation_1-error:0.17436\tvalidation_1-logloss:0.38716\n",
      "[9]\tvalidation_0-error:0.12554\tvalidation_0-logloss:0.31999\tvalidation_1-error:0.17532\tvalidation_1-logloss:0.38399\n",
      "[10]\tvalidation_0-error:0.12216\tvalidation_0-logloss:0.31232\tvalidation_1-error:0.17581\tvalidation_1-logloss:0.38027\n",
      "[11]\tvalidation_0-error:0.11815\tvalidation_0-logloss:0.30286\tvalidation_1-error:0.17331\tvalidation_1-logloss:0.37675\n",
      "[12]\tvalidation_0-error:0.11581\tvalidation_0-logloss:0.29624\tvalidation_1-error:0.17250\tvalidation_1-logloss:0.37435\n",
      "[13]\tvalidation_0-error:0.11482\tvalidation_0-logloss:0.29224\tvalidation_1-error:0.17145\tvalidation_1-logloss:0.37229\n",
      "[14]\tvalidation_0-error:0.10994\tvalidation_0-logloss:0.28407\tvalidation_1-error:0.17040\tvalidation_1-logloss:0.36866\n",
      "[15]\tvalidation_0-error:0.10637\tvalidation_0-logloss:0.27735\tvalidation_1-error:0.16960\tvalidation_1-logloss:0.36634\n",
      "[16]\tvalidation_0-error:0.10371\tvalidation_0-logloss:0.27219\tvalidation_1-error:0.16903\tvalidation_1-logloss:0.36472\n",
      "[17]\tvalidation_0-error:0.10230\tvalidation_0-logloss:0.26924\tvalidation_1-error:0.16927\tvalidation_1-logloss:0.36341\n",
      "[18]\tvalidation_0-error:0.09964\tvalidation_0-logloss:0.26485\tvalidation_1-error:0.16814\tvalidation_1-logloss:0.36221\n",
      "[19]\tvalidation_0-error:0.09859\tvalidation_0-logloss:0.26247\tvalidation_1-error:0.16766\tvalidation_1-logloss:0.36150\n",
      "[20]\tvalidation_0-error:0.09550\tvalidation_0-logloss:0.25479\tvalidation_1-error:0.16516\tvalidation_1-logloss:0.35788\n",
      "[21]\tvalidation_0-error:0.09363\tvalidation_0-logloss:0.25175\tvalidation_1-error:0.16460\tvalidation_1-logloss:0.35698\n",
      "[22]\tvalidation_0-error:0.09083\tvalidation_0-logloss:0.24695\tvalidation_1-error:0.16395\tvalidation_1-logloss:0.35570\n",
      "[23]\tvalidation_0-error:0.08897\tvalidation_0-logloss:0.24185\tvalidation_1-error:0.16218\tvalidation_1-logloss:0.35404\n",
      "[24]\tvalidation_0-error:0.08696\tvalidation_0-logloss:0.23805\tvalidation_1-error:0.16210\tvalidation_1-logloss:0.35297\n",
      "[25]\tvalidation_0-error:0.08385\tvalidation_0-logloss:0.23434\tvalidation_1-error:0.16315\tvalidation_1-logloss:0.35346\n",
      "[26]\tvalidation_0-error:0.08288\tvalidation_0-logloss:0.23231\tvalidation_1-error:0.16387\tvalidation_1-logloss:0.35314\n",
      "[27]\tvalidation_0-error:0.08141\tvalidation_0-logloss:0.22911\tvalidation_1-error:0.16315\tvalidation_1-logloss:0.35298\n",
      "[28]\tvalidation_0-error:0.07857\tvalidation_0-logloss:0.22467\tvalidation_1-error:0.16306\tvalidation_1-logloss:0.35243\n",
      "[29]\tvalidation_0-error:0.07575\tvalidation_0-logloss:0.22040\tvalidation_1-error:0.16387\tvalidation_1-logloss:0.35174\n",
      "[30]\tvalidation_0-error:0.07440\tvalidation_0-logloss:0.21748\tvalidation_1-error:0.16266\tvalidation_1-logloss:0.35125\n",
      "[31]\tvalidation_0-error:0.07268\tvalidation_0-logloss:0.21520\tvalidation_1-error:0.16315\tvalidation_1-logloss:0.35100\n",
      "[32]\tvalidation_0-error:0.07175\tvalidation_0-logloss:0.21355\tvalidation_1-error:0.16290\tvalidation_1-logloss:0.35024\n",
      "[33]\tvalidation_0-error:0.06881\tvalidation_0-logloss:0.20834\tvalidation_1-error:0.16242\tvalidation_1-logloss:0.34887\n",
      "[34]\tvalidation_0-error:0.06760\tvalidation_0-logloss:0.20663\tvalidation_1-error:0.16185\tvalidation_1-logloss:0.34896\n",
      "[35]\tvalidation_0-error:0.06673\tvalidation_0-logloss:0.20458\tvalidation_1-error:0.16210\tvalidation_1-logloss:0.34842\n",
      "[36]\tvalidation_0-error:0.06544\tvalidation_0-logloss:0.20329\tvalidation_1-error:0.16258\tvalidation_1-logloss:0.34860\n",
      "[37]\tvalidation_0-error:0.06480\tvalidation_0-logloss:0.20078\tvalidation_1-error:0.16298\tvalidation_1-logloss:0.34839\n",
      "[38]\tvalidation_0-error:0.06355\tvalidation_0-logloss:0.19870\tvalidation_1-error:0.16274\tvalidation_1-logloss:0.34800\n",
      "[39]\tvalidation_0-error:0.06071\tvalidation_0-logloss:0.19428\tvalidation_1-error:0.16193\tvalidation_1-logloss:0.34827\n",
      "[40]\tvalidation_0-error:0.05968\tvalidation_0-logloss:0.19207\tvalidation_1-error:0.16145\tvalidation_1-logloss:0.34772\n",
      "[41]\tvalidation_0-error:0.05784\tvalidation_0-logloss:0.18927\tvalidation_1-error:0.16185\tvalidation_1-logloss:0.34752\n",
      "[42]\tvalidation_0-error:0.05631\tvalidation_0-logloss:0.18682\tvalidation_1-error:0.16226\tvalidation_1-logloss:0.34739\n",
      "[43]\tvalidation_0-error:0.05466\tvalidation_0-logloss:0.18425\tvalidation_1-error:0.16105\tvalidation_1-logloss:0.34706\n",
      "[44]\tvalidation_0-error:0.05423\tvalidation_0-logloss:0.18288\tvalidation_1-error:0.15976\tvalidation_1-logloss:0.34671\n",
      "[45]\tvalidation_0-error:0.05323\tvalidation_0-logloss:0.18091\tvalidation_1-error:0.16032\tvalidation_1-logloss:0.34638\n",
      "[46]\tvalidation_0-error:0.05196\tvalidation_0-logloss:0.17865\tvalidation_1-error:0.15895\tvalidation_1-logloss:0.34578\n",
      "[47]\tvalidation_0-error:0.05091\tvalidation_0-logloss:0.17671\tvalidation_1-error:0.16089\tvalidation_1-logloss:0.34528\n",
      "[48]\tvalidation_0-error:0.05034\tvalidation_0-logloss:0.17486\tvalidation_1-error:0.16040\tvalidation_1-logloss:0.34558\n",
      "[49]\tvalidation_0-error:0.04907\tvalidation_0-logloss:0.17277\tvalidation_1-error:0.15984\tvalidation_1-logloss:0.34567\n",
      "[50]\tvalidation_0-error:0.04780\tvalidation_0-logloss:0.17090\tvalidation_1-error:0.16065\tvalidation_1-logloss:0.34528\n",
      "[51]\tvalidation_0-error:0.04772\tvalidation_0-logloss:0.16979\tvalidation_1-error:0.16040\tvalidation_1-logloss:0.34535\n",
      "[52]\tvalidation_0-error:0.04706\tvalidation_0-logloss:0.16819\tvalidation_1-error:0.15895\tvalidation_1-logloss:0.34495\n",
      "[53]\tvalidation_0-error:0.04597\tvalidation_0-logloss:0.16645\tvalidation_1-error:0.15960\tvalidation_1-logloss:0.34497\n",
      "[54]\tvalidation_0-error:0.04452\tvalidation_0-logloss:0.16415\tvalidation_1-error:0.15927\tvalidation_1-logloss:0.34497\n",
      "[55]\tvalidation_0-error:0.04391\tvalidation_0-logloss:0.16278\tvalidation_1-error:0.15895\tvalidation_1-logloss:0.34499\n",
      "[56]\tvalidation_0-error:0.04238\tvalidation_0-logloss:0.16056\tvalidation_1-error:0.15903\tvalidation_1-logloss:0.34472\n",
      "[57]\tvalidation_0-error:0.04163\tvalidation_0-logloss:0.15841\tvalidation_1-error:0.15855\tvalidation_1-logloss:0.34472\n",
      "[58]\tvalidation_0-error:0.03950\tvalidation_0-logloss:0.15480\tvalidation_1-error:0.15839\tvalidation_1-logloss:0.34477\n",
      "[59]\tvalidation_0-error:0.03839\tvalidation_0-logloss:0.15183\tvalidation_1-error:0.15831\tvalidation_1-logloss:0.34425\n",
      "[60]\tvalidation_0-error:0.03667\tvalidation_0-logloss:0.14866\tvalidation_1-error:0.15798\tvalidation_1-logloss:0.34493\n",
      "[61]\tvalidation_0-error:0.03641\tvalidation_0-logloss:0.14793\tvalidation_1-error:0.15839\tvalidation_1-logloss:0.34468\n",
      "[62]\tvalidation_0-error:0.03552\tvalidation_0-logloss:0.14620\tvalidation_1-error:0.15702\tvalidation_1-logloss:0.34420\n",
      "[63]\tvalidation_0-error:0.03516\tvalidation_0-logloss:0.14541\tvalidation_1-error:0.15702\tvalidation_1-logloss:0.34458\n",
      "[64]\tvalidation_0-error:0.03470\tvalidation_0-logloss:0.14421\tvalidation_1-error:0.15766\tvalidation_1-logloss:0.34448\n",
      "[65]\tvalidation_0-error:0.03309\tvalidation_0-logloss:0.14127\tvalidation_1-error:0.15726\tvalidation_1-logloss:0.34480\n",
      "[66]\tvalidation_0-error:0.03216\tvalidation_0-logloss:0.13931\tvalidation_1-error:0.15702\tvalidation_1-logloss:0.34486\n",
      "[67]\tvalidation_0-error:0.03095\tvalidation_0-logloss:0.13750\tvalidation_1-error:0.15758\tvalidation_1-logloss:0.34504\n",
      "[68]\tvalidation_0-error:0.03000\tvalidation_0-logloss:0.13552\tvalidation_1-error:0.15782\tvalidation_1-logloss:0.34520\n",
      "[69]\tvalidation_0-error:0.02927\tvalidation_0-logloss:0.13417\tvalidation_1-error:0.15847\tvalidation_1-logloss:0.34542\n",
      "[70]\tvalidation_0-error:0.02859\tvalidation_0-logloss:0.13221\tvalidation_1-error:0.15758\tvalidation_1-logloss:0.34508\n",
      "[71]\tvalidation_0-error:0.02825\tvalidation_0-logloss:0.13111\tvalidation_1-error:0.15742\tvalidation_1-logloss:0.34468\n",
      "[72]\tvalidation_0-error:0.02764\tvalidation_0-logloss:0.12954\tvalidation_1-error:0.15774\tvalidation_1-logloss:0.34482\n"
     ]
    },
    {
     "data": {
      "image/png": "[encoded data removed]",
      "text/plain": [
       "<Figure size 432x288 with 1 Axes>"
      ]
     },
     "metadata": {
      "needs_background": "light"
     },
     "output_type": "display_data"
    },
    {
     "data": {
      "image/png": "[encoded data removed]",
      "text/plain": [
       "<Figure size 432x288 with 1 Axes>"
      ]
     },
     "metadata": {
      "needs_background": "light"
     },
     "output_type": "display_data"
    }
   ],
   "source": [
    "### ploting the model behavior on train and validation datasets over epochs\n",
    "eval_set = [(x_train, y_train),(x_validation, y_validation)]\n",
    "model.fit(x_train, y_train, early_stopping_rounds=10, eval_metric=[\"error\", \"logloss\"], eval_set=eval_set, verbose=True)\n",
    "results = model.evals_result()\n",
    "epochs = len(results['validation_0']['error'])\n",
    "x_axis = range(0, epochs)\n",
    "# plot log loss\n",
    "fig, ax = plt.subplots()\n",
    "ax.plot(x_axis, results['validation_0']['logloss'], label='Train')\n",
    "ax.plot(x_axis, results['validation_1']['logloss'], label='Validation')\n",
    "ax.legend()\n",
    "plt.ylabel('log_loss')\n",
    "plt.title('XGBoost Log Loss')\n",
    "plt.show()\n",
    "# plot classification error\n",
    "fig, ax = plt.subplots()\n",
    "ax.plot(x_axis, results['validation_0']['error'], label='Train')\n",
    "ax.plot(x_axis, results['validation_1']['error'], label='Validation')\n",
    "ax.legend()\n",
    "plt.ylabel('Classification Error')\n",
    "plt.title('XGBoost Classification Error')\n",
    "plt.show()"
   ]
  },
  {
   "cell_type": "code",
   "execution_count": 84,
   "metadata": {},
   "outputs": [
    {
     "data": {
      "text/html": [
       "<div>\n",
       "<style scoped>\n",
       "    .dataframe tbody tr th:only-of-type {\n",
       "        vertical-align: middle;\n",
       "    }\n",
       "\n",
       "    .dataframe tbody tr th {\n",
       "        vertical-align: top;\n",
       "    }\n",
       "\n",
       "    .dataframe thead th {\n",
       "        text-align: right;\n",
       "    }\n",
       "</style>\n",
       "<table border=\"1\" class=\"dataframe\">\n",
       "  <thead>\n",
       "    <tr style=\"text-align: right;\">\n",
       "      <th></th>\n",
       "      <th>feature</th>\n",
       "      <th>importance</th>\n",
       "    </tr>\n",
       "  </thead>\n",
       "  <tbody>\n",
       "    <tr>\n",
       "      <th>194</th>\n",
       "      <td>topoElevationMean</td>\n",
       "      <td>0.043889</td>\n",
       "    </tr>\n",
       "    <tr>\n",
       "      <th>159</th>\n",
       "      <td>ERA5_temperature_2m_oct</td>\n",
       "      <td>0.038882</td>\n",
       "    </tr>\n",
       "    <tr>\n",
       "      <th>191</th>\n",
       "      <td>ERA5_temperature_2m_dec</td>\n",
       "      <td>0.024432</td>\n",
       "    </tr>\n",
       "    <tr>\n",
       "      <th>175</th>\n",
       "      <td>ERA5_temperature_2m_nov</td>\n",
       "      <td>0.021099</td>\n",
       "    </tr>\n",
       "    <tr>\n",
       "      <th>15</th>\n",
       "      <td>ERA5_temperature_2m_jan</td>\n",
       "      <td>0.017076</td>\n",
       "    </tr>\n",
       "    <tr>\n",
       "      <th>...</th>\n",
       "      <td>...</td>\n",
       "      <td>...</td>\n",
       "    </tr>\n",
       "    <tr>\n",
       "      <th>151</th>\n",
       "      <td>S2_B7_oct</td>\n",
       "      <td>0.002388</td>\n",
       "    </tr>\n",
       "    <tr>\n",
       "      <th>153</th>\n",
       "      <td>S2_B8A_oct</td>\n",
       "      <td>0.002317</td>\n",
       "    </tr>\n",
       "    <tr>\n",
       "      <th>154</th>\n",
       "      <td>S2_B9_oct</td>\n",
       "      <td>0.002301</td>\n",
       "    </tr>\n",
       "    <tr>\n",
       "      <th>122</th>\n",
       "      <td>S2_B9_aug</td>\n",
       "      <td>0.002109</td>\n",
       "    </tr>\n",
       "    <tr>\n",
       "      <th>1</th>\n",
       "      <td>Unnamed: 0.1</td>\n",
       "      <td>0.002043</td>\n",
       "    </tr>\n",
       "  </tbody>\n",
       "</table>\n",
       "<p>196 rows × 2 columns</p>\n",
       "</div>"
      ],
      "text/plain": [
       "                     feature  importance\n",
       "194        topoElevationMean    0.043889\n",
       "159  ERA5_temperature_2m_oct    0.038882\n",
       "191  ERA5_temperature_2m_dec    0.024432\n",
       "175  ERA5_temperature_2m_nov    0.021099\n",
       "15   ERA5_temperature_2m_jan    0.017076\n",
       "..                       ...         ...\n",
       "151                S2_B7_oct    0.002388\n",
       "153               S2_B8A_oct    0.002317\n",
       "154                S2_B9_oct    0.002301\n",
       "122                S2_B9_aug    0.002109\n",
       "1               Unnamed: 0.1    0.002043\n",
       "\n",
       "[196 rows x 2 columns]"
      ]
     },
     "execution_count": 84,
     "metadata": {},
     "output_type": "execute_result"
    },
    {
     "data": {
      "image/png": "[encoded data removed]",
      "text/plain": [
       "<Figure size 750x450 with 1 Axes>"
      ]
     },
     "metadata": {
      "needs_background": "light"
     },
     "output_type": "display_data"
    }
   ],
   "source": [
    "## ROC metric \n",
    "evaluate_model(x_train, y_train, x_validation, y_validation, model)"
   ]
  },
  {
   "cell_type": "code",
   "execution_count": 86,
   "metadata": {},
   "outputs": [
    {
     "name": "stdout",
     "output_type": "stream",
     "text": [
      "[0 1 1 1 1 0 1 0 1 1 1 1 0 1 1 1 1 0 0 1 1 0 0 1 1 1 1 1 0 0 0 0 0 1 1 1 0\n",
      " 1 1 0 1 1 1 1 1 0 1 1 1 1]\n"
     ]
    }
   ],
   "source": [
    "\n",
    "test_nolabels_prediction = predictOnSet(model, test_nolabels)\n",
    "test_nolabels_prediction = np.int8(test_nolabels_prediction)\n",
    "savePrediction(test_nolabels_prediction, 'XGBCl_bestRF_Standard.csv')\n",
    "print(test_nolabels_prediction[0:50])"
   ]
  },
  {
   "cell_type": "code",
   "execution_count": null,
   "metadata": {},
   "outputs": [],
   "source": [
    "## Calculating F1 metrics for all produced models\n",
    "modelNameList =  list{}\n",
    "\n",
    "for model in modelNameList:\n",
    "    model = pd.(model, index_col = None)\n",
    "    model.fit(x_train, y_train) \n",
    "    y_hat = model.predict(x_validation)\n",
    "    f1 = f1_score(model, x_validation,y_validation, average ='binary',zero_division = 0)\n",
    "    roc = roc_auc_score(y_validation, y_hat)\n",
    "    print(\"quality of prediction of \" + model + \", f1_score:\", f1, \", ROC: \", roc,\"\\n\",)\n",
    "    \n"
   ]
  },
  {
   "cell_type": "code",
   "execution_count": 87,
   "metadata": {},
   "outputs": [
    {
     "name": "stdout",
     "output_type": "stream",
     "text": [
      "Accuracy xgboost: 0.67%\n"
     ]
    }
   ],
   "source": [
    "testNoLabelFIrst = pd.read_csv(\"first_rfSearch_noLabelPrediction.csv\", index_col = None)\n",
    "xxx = testNoLabelFIrst['LABELS']\n",
    "yyy = pd.read_csv('XGBCl_bestRF_Standard.csv',index_col = None)\n",
    "yyy = yyy['LABELS'] \n",
    "accuracy = accuracy_score(xxx, yyy)\n",
    "print(\"Accuracy xgboost: %.2f%%\" % (accuracy))"
   ]
  }
 ],
 "metadata": {
  "interpreter": {
   "hash": "aee8b7b246df8f9039afb4144a1f6fd8d2ca17a180786b69acc140d282b71a49"
  },
  "kernelspec": {
   "display_name": "Python 3.9.9 64-bit",
   "language": "python",
   "name": "python3"
  },
  "language_info": {
   "codemirror_mode": {
    "name": "ipython",
    "version": 3
   },
   "file_extension": ".py",
   "mimetype": "text/x-python",
   "name": "python",
   "nbconvert_exporter": "python",
   "pygments_lexer": "ipython3",
   "version": "3.9.9"
  },
  "orig_nbformat": 4
 },
 "nbformat": 4,
 "nbformat_minor": 2
}
