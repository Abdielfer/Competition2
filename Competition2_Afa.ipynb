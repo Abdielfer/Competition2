{
 "cells": [
  {
   "cell_type": "code",
   "execution_count": 1,
   "metadata": {},
   "outputs": [],
   "source": [
    "import numpy as np\n",
    "from numpy import random\n",
    "import pandas as pd\n",
    "import joblib\n",
    "import pickle\n",
    "import matplotlib.pyplot as plt\n",
    "from matplotlib import pyplot\n",
    "import math, decimal\n",
    "from math import exp\n",
    "import seaborn as sns\n",
    "import sklearn as sk\n",
    "from sklearn import metrics\n",
    "from sklearn.model_selection import train_test_split, RandomizedSearchCV,GridSearchCV \n",
    "from sklearn.ensemble import RandomForestClassifier\n",
    "from sklearn.metrics import accuracy_score,roc_curve, auc, roc_auc_score, f1_score\n",
    "from sklearn.calibration import calibration_curve, CalibrationDisplay\n",
    "from xgboost import XGBClassifier,XGBRFClassifier\n",
    "from collections import Counter\n",
    "seedRF =50\n"
   ]
  },
  {
   "cell_type": "code",
   "execution_count": 2,
   "metadata": {},
   "outputs": [],
   "source": [
    "### Data manipulation and helper methods  ###\n",
    "def meanStd(dataset):\n",
    "    '''\n",
    "    dataset_minmax(dataset)\n",
    "    return a list like {min:#,max:#}\n",
    "    # Find the min and std values for each column\n",
    "    '''\n",
    "    col = dataset.shape[1]\n",
    "    meanVal, stdVal = 0,0\n",
    "    stats = list()\n",
    "    for i in range(col):\n",
    "        val = dataset.iloc[:, i]\n",
    "        meanVal = np.mean(val)\n",
    "        stdVal = np.std(val)\n",
    "        stats.append([meanVal,stdVal])\n",
    "    return stats\n",
    "\n",
    "def standardize_data(dataset, mean_std):\n",
    "    '''\n",
    "    standardize_data(dataset, mean_std)\n",
    "    @mean_std: @arguent: list of min/max valuer per column {min:#,max:#}\n",
    "    # Rescale dataset columns to the range 0-1\n",
    "    '''\n",
    "    col = dataset.shape[1]\n",
    "    row = dataset.shape[0]\n",
    "    for i in range(1,col):\n",
    "        for n in range(row):\n",
    "            dataset.iloc[n,i] -= mean_std[i][0]\n",
    "            dataset.iloc[n,i] /= mean_std[i][1]\n",
    "    return dataset\n"
   ]
  },
  {
   "cell_type": "code",
   "execution_count": 3,
   "metadata": {},
   "outputs": [],
   "source": [
    "                ## uncoment to apply\n",
    "####    importing original datasets and filling NaN values \n",
    "train = pd.read_csv(\"train.csv\", index_col = None)\n",
    "y = train[['LABELS']]\n",
    "# ## x = pd.read_csv(\"x_standardized.csv\", index_col = None) # to import sandardized dataset\n",
    "x = train.drop('LABELS', axis=1)\n",
    "# ## Correction of empty values with means by columns\n",
    "xMean = x.mean()\n",
    "x = x.fillna(xMean)\n",
    "test_nolabels = pd.read_csv(\"test_nolabels.csv\", index_col = None)\n",
    "test_nolabels = test_nolabels.fillna(xMean)\n",
    "\n",
    "##     Replacing columns of elevation and slope by yearly means\n",
    "toposElevation = {\"topo_elevation_jan\",'topo_elevation_feb','topo_elevation_mar','topo_elevation_apr','topo_elevation_may','topo_elevation_jun','topo_elevation_jul','topo_elevation_aug','topo_elevation_sep','topo_elevation_oct','topo_elevation_nov','topo_elevation_dec'}\n",
    "topoSlope = {'topo_slope_jan','topo_slope_feb','topo_slope_mar','topo_slope_apr','topo_slope_may','topo_slope_aug','topo_slope_jun','topo_slope_jul','topo_slope_sep','topo_slope_oct','topo_slope_nov','topo_slope_dec'}\n",
    "topoElevationDF = x[toposElevation]\n",
    "topoElevationMean = topoElevationDF.mean(axis=1)\n",
    "x = x.drop(toposElevation,axis=1)\n",
    "x['topoElevationMean'] = topoElevationMean\n",
    "topoSlopeDF = x[topoSlope]\n",
    "topoSlopeMean = topoSlopeDF.mean(axis=1)\n",
    "x = x.drop(topoSlope, axis=1)\n",
    "x['topoSlope'] = topoSlopeMean"
   ]
  },
  {
   "cell_type": "code",
   "execution_count": 4,
   "metadata": {},
   "outputs": [],
   "source": [
    "     ## uncoment to apply\n",
    "# #preprocessing No_label datase:\n",
    "topoElevationDF = test_nolabels[toposElevation]\n",
    "topoElevationMean = topoElevationDF.mean(axis=1)\n",
    "topoSlopeDF = test_nolabels[topoSlope]\n",
    "topoSlopeMean = topoSlopeDF.mean(axis=1)\n",
    "test_nolabels = test_nolabels.drop(toposElevation, axis=1)\n",
    "test_nolabels = test_nolabels.drop(topoSlope, axis=1)\n",
    "test_nolabels['topoElevationMean'] = topoElevationMean\n",
    "test_nolabels['topoSlope'] = topoSlopeMean\n",
    "## standardizing test_nolabels\n",
    "# mean_std_x_noLabel = meanStd(test_nolabels)\n",
    "# test_nolabels = standardize_data(test_nolabels, mean_std_x_noLabel)"
   ]
  },
  {
   "cell_type": "code",
   "execution_count": 19,
   "metadata": {},
   "outputs": [],
   "source": [
    "#### working with standardized dataSets \n",
    "# ## (All previous transformations are already done in standardized Datasets)\n",
    "# train = pd.read_csv(\"train.csv\", index_col = None)\n",
    "# y = train[['LABELS']]\n",
    "# x = pd.read_csv(\"x_standardized.csv\", index_col = None)\n",
    "# test_nolabels = pd.read_csv(\"nonLabeled_standardized.csv\", index_col = None)"
   ]
  },
  {
   "cell_type": "code",
   "execution_count": 7,
   "metadata": {},
   "outputs": [],
   "source": [
    "x_train, x_validation, y_train, y_validation = train_test_split( x,y, test_size=0.2)"
   ]
  },
  {
   "cell_type": "code",
   "execution_count": 8,
   "metadata": {},
   "outputs": [
    {
     "name": "stdout",
     "output_type": "stream",
     "text": [
      " (49600, 195)   : (12400, 195)\n",
      "Label balance on Training set:  \n",
      " 1.0    32911\n",
      "0.0    16689\n",
      "Name: LABELS, dtype: int64\n",
      "Label balance on Validation set:  \n",
      " 1.0    8306\n",
      "0.0    4094\n",
      "Name: LABELS, dtype: int64\n"
     ]
    }
   ],
   "source": [
    "## Data shape exploration\n",
    "print(\"\",np.shape(x_train),\"  :\",np.shape(x_validation) )\n",
    "print(\"Label balance on Training set: \", \"\\n\", y_train['LABELS'].value_counts())\n",
    "print(\"Label balance on Validation set: \", \"\\n\", y_validation['LABELS'].value_counts())\n",
    "## reshape in column vector\n",
    "y_train = (np.array(y_train).astype('int')).ravel()\n",
    "y_validation = (np.array(y_validation).astype('int')).ravel()"
   ]
  },
  {
   "cell_type": "code",
   "execution_count": 9,
   "metadata": {},
   "outputs": [],
   "source": [
    "### Some helpers function\n",
    "# To adapt the prediction to Kaggel format of submission \n",
    "def formating_prediction(predictions): \n",
    "        '''\n",
    "        Return the prediction in the Kaggle format submition\n",
    "        @hypotesis : column of classes \n",
    "        '''\n",
    "        y_hat = pd.DataFrame({'S.No' : [],'LABELS' : []}, dtype=np.int8) \n",
    "        for i in range(len(predictions)):\n",
    "            y_hat.loc[i] = [i,predictions[i]]\n",
    "        return pd.DataFrame(data = y_hat) \n",
    "\n",
    "def predictOnSet(model, x_test):\n",
    "    prediction = model.predict(x_test)\n",
    "    return prediction\n",
    "\n",
    "def savePrediction(prediction, filename):\n",
    "    '''\n",
    "    Save predictions\n",
    "    @argument: filename: Remenber EXTENTION 'filename.csv'\n",
    "    '''\n",
    "    prediction = prediction.astype('int32') #exsure prediction as integer\n",
    "    predictions_DF = formating_prediction(prediction)\n",
    "    return predictions_DF.to_csv(filename, index = None)\n",
    "\n",
    "## modle evaluation\n",
    "def metric_RocAuc(y_probability, y_validation, estimator_name):\n",
    "    '''\n",
    "    Calculate and plt ROC metric\n",
    "    @argument: y_probability : the probability class=1.\n",
    "    @argument: y_validation: True labels.\n",
    "    fpr, tpr = false_positive, true_positive.\n",
    "    Return: \"false_positive\" and \"true_positive\", ROC_auc metric.\n",
    "    '''\n",
    "    fpr, tpr, _ = roc_curve(y_validation, y_probability) \n",
    "    roc_auc = auc(fpr, tpr)\n",
    "    fig, axes = plt.subplots(constrained_layout=True,figsize=(5,3), dpi=150)\n",
    "    fig.suptitle(estimator_name)\n",
    "    axes.plot([0, 1], [0, 1], color= 'k',linestyle=\"--\") # perfect fit \n",
    "    display = metrics.RocCurveDisplay(fpr=fpr, tpr=tpr, roc_auc=roc_auc,\n",
    "                                       estimator_name=estimator_name)\n",
    "    display.plot(ax=axes)\n",
    "    return fpr, tpr, roc_auc\n",
    "\n",
    "## Show some evaluation criteria on the clasifier\n",
    "def evaluate_model(x_train, y_train, x_validation, y_validation, classifier):\n",
    "    features = x_train.columns\n",
    "    validation_Prediction = classifier.predict(x_validation)\n",
    "    validation_PredictedProb = classifier.predict_proba(x_validation)[:, 1]\n",
    "    ### ROC metric and curve #####\n",
    "    clasifierName = type(classifier).__name__\n",
    "    metric_RocAuc(validation_PredictedProb, y_validation,clasifierName)\n",
    "    fi_model = pd.DataFrame({'feature': features,\n",
    "                   'importance': classifier.feature_importances_}).\\\n",
    "                    sort_values('importance', ascending = False)\n",
    "    clasifierNameExtended = clasifierName + \"_info_fi.csv\"     \n",
    "    fi_model.to_csv(clasifierNameExtended, index = None)\n",
    "    return fi_model"
   ]
  },
  {
   "cell_type": "code",
   "execution_count": null,
   "metadata": {},
   "outputs": [],
   "source": [
    "#### Ramdomized RF  ####\n",
    "# Hyperparameter grid NOTE: Grid search was transformed several time to enlage the exploration. \n",
    "# Best ramdom seach grid has been publiched in the Report\n",
    "param_grid = {\n",
    "    'n_estimators': np.linspace(10, 400,20).astype(int),\n",
    "    'max_depth': [None] + list(np.linspace(3, 20).astype(int)),\n",
    "    'max_features': ['auto', 'sqrt', None] + list(np.arange(0.5, 1, 0.1)),\n",
    "    'max_leaf_nodes': [None] + list(np.linspace(10, 50, 500).astype(int)),\n",
    "    'min_samples_split': [2, 5, 10],\n",
    "    'bootstrap': [True, False]\n",
    "}\n",
    "# Estimator for use in random search\n",
    "estimator = RandomForestClassifier(random_state = seedRF)\n",
    "# Create the random search model\n",
    "rs = RandomizedSearchCV(estimator, param_grid, n_jobs = -1, \n",
    "                        scoring = 'roc_auc', cv = 3, \n",
    "                        n_iter = 10, verbose = 1, random_state=seedRF)\n",
    "# Random searsh  \n",
    "y_train = np.array(y_train)rs.fit(x_train, y_train).ravel()\n",
    "print(rs.best_params_, \"\\n\")\n",
    "### Working with best estimator from RandomizedSearch \n",
    "best_model = rs.best_estimator_\n",
    "# Save model\n",
    "joblib.dump(best_model, \"rf_RandomSearch.pkl\")\n",
    "## Evaluating ROC Curve and extracting features priority\n",
    "fi_model = evaluate_model(x_train, y_train, x_validation, y_validation, test_nolabels_prediction)\n",
    "## Predicting on No_Labeled dataset and saving prediction ready to submit\n",
    "# test_nolabels_prediction = predictOnSet(best_model, test_nolabels)\n",
    "# savePrediction(test_nolabels_prediction, 'first_rfSearch_noLabelPrediction.csv')"
   ]
  },
  {
   "cell_type": "code",
   "execution_count": null,
   "metadata": {},
   "outputs": [],
   "source": [
    "## XGBClassifier\n",
    "estimator = XGBClassifier(use_label_encoder=False,subsample=0.9, colsample_bynode=0.2)\n",
    "## Passing best estimator from Ramdomized RF to XGBoost\n",
    "# NOTE: A RandomizedSearchCV was maid with a different param_grid that can be found in the report\n",
    "param_grid = {\n",
    "    'n_estimators': [377],\n",
    "    'max_depth': [8],\n",
    "    'max_leaf_nodes':[37],\n",
    "    'max_features' : [0.3],\n",
    "    'random_state' :[50]\n",
    "}\n",
    "# Create the random search model\n",
    "rs = RandomizedSearchCV(estimator, param_grid, n_jobs = -1, \n",
    "                        scoring = 'roc_auc', cv = 3, \n",
    "                        n_iter = 4, verbose = 1, random_state=47)\n",
    "\n",
    "rs.fit(x_train, y_train)\n",
    "print(rs.best_params_, \"\\n\")\n",
    "model = rs.best_estimator_\n",
    "\n",
    "# Save model\n",
    "joblib.dump(model, \"XGBCl_bestRF_Standard.pkl\")\n",
    "\n",
    "# To monitor evolution on mode.fit() and find the early soping point\n",
    "eval_set = [(x_validation, y_validation)]\n",
    "model.fit(x_train, y_train, early_stopping_rounds=10, eval_metric=\"error\", eval_set=eval_set, verbose=True)\n"
   ]
  },
  {
   "cell_type": "code",
   "execution_count": 10,
   "metadata": {},
   "outputs": [],
   "source": [
    "model = joblib.load(\"XGBCl_bestRF_Standard.pkl\")"
   ]
  },
  {
   "cell_type": "code",
   "execution_count": 11,
   "metadata": {},
   "outputs": [
    {
     "name": "stdout",
     "output_type": "stream",
     "text": [
      "[21:02:27] WARNING: /Users/runner/work/xgboost/xgboost/src/learner.cc:576: \n",
      "Parameters: { \"max_features\", \"max_leaf_nodes\" } might not be used.\n",
      "\n",
      "  This could be a false alarm, with some parameters getting used by language bindings but\n",
      "  then being mistakenly passed down to XGBoost core, or some parameter actually being used\n",
      "  but getting flagged wrongly here. Please open an issue if you find any such cases.\n",
      "\n",
      "\n",
      "[0]\tvalidation_0-error:0.21083\tvalidation_0-logloss:0.58360\tvalidation_1-error:0.22508\tvalidation_1-logloss:0.58928\n",
      "[1]\tvalidation_0-error:0.17966\tvalidation_0-logloss:0.51223\tvalidation_1-error:0.19782\tvalidation_1-logloss:0.52376\n",
      "[2]\tvalidation_0-error:0.16502\tvalidation_0-logloss:0.46416\tvalidation_1-error:0.19185\tvalidation_1-logloss:0.48287\n",
      "[3]\tvalidation_0-error:0.15706\tvalidation_0-logloss:0.42547\tvalidation_1-error:0.18637\tvalidation_1-logloss:0.45109\n",
      "[4]\tvalidation_0-error:0.15099\tvalidation_0-logloss:0.39994\tvalidation_1-error:0.18419\tvalidation_1-logloss:0.43199\n",
      "[5]\tvalidation_0-error:0.14561\tvalidation_0-logloss:0.37939\tvalidation_1-error:0.18121\tvalidation_1-logloss:0.41695\n",
      "[6]\tvalidation_0-error:0.13976\tvalidation_0-logloss:0.36176\tvalidation_1-error:0.17847\tvalidation_1-logloss:0.40598\n",
      "[7]\tvalidation_0-error:0.13437\tvalidation_0-logloss:0.34601\tvalidation_1-error:0.17621\tvalidation_1-logloss:0.39627\n",
      "[8]\tvalidation_0-error:0.13052\tvalidation_0-logloss:0.33650\tvalidation_1-error:0.17500\tvalidation_1-logloss:0.39131\n",
      "[9]\tvalidation_0-error:0.12919\tvalidation_0-logloss:0.32948\tvalidation_1-error:0.17500\tvalidation_1-logloss:0.38748\n",
      "[10]\tvalidation_0-error:0.12718\tvalidation_0-logloss:0.32243\tvalidation_1-error:0.17540\tvalidation_1-logloss:0.38403\n",
      "[11]\tvalidation_0-error:0.12316\tvalidation_0-logloss:0.31319\tvalidation_1-error:0.17323\tvalidation_1-logloss:0.37935\n",
      "[12]\tvalidation_0-error:0.12123\tvalidation_0-logloss:0.30684\tvalidation_1-error:0.17194\tvalidation_1-logloss:0.37528\n",
      "[13]\tvalidation_0-error:0.11855\tvalidation_0-logloss:0.30133\tvalidation_1-error:0.17194\tvalidation_1-logloss:0.37328\n",
      "[14]\tvalidation_0-error:0.11443\tvalidation_0-logloss:0.29322\tvalidation_1-error:0.17129\tvalidation_1-logloss:0.36991\n",
      "[15]\tvalidation_0-error:0.11014\tvalidation_0-logloss:0.28613\tvalidation_1-error:0.17097\tvalidation_1-logloss:0.36814\n",
      "[16]\tvalidation_0-error:0.10698\tvalidation_0-logloss:0.28010\tvalidation_1-error:0.17016\tvalidation_1-logloss:0.36615\n",
      "[17]\tvalidation_0-error:0.10274\tvalidation_0-logloss:0.27265\tvalidation_1-error:0.16968\tvalidation_1-logloss:0.36427\n",
      "[18]\tvalidation_0-error:0.09972\tvalidation_0-logloss:0.26679\tvalidation_1-error:0.16960\tvalidation_1-logloss:0.36289\n",
      "[19]\tvalidation_0-error:0.09827\tvalidation_0-logloss:0.26404\tvalidation_1-error:0.16927\tvalidation_1-logloss:0.36266\n",
      "[20]\tvalidation_0-error:0.09681\tvalidation_0-logloss:0.26101\tvalidation_1-error:0.16927\tvalidation_1-logloss:0.36167\n",
      "[21]\tvalidation_0-error:0.09425\tvalidation_0-logloss:0.25564\tvalidation_1-error:0.16871\tvalidation_1-logloss:0.35999\n",
      "[22]\tvalidation_0-error:0.09272\tvalidation_0-logloss:0.25240\tvalidation_1-error:0.16847\tvalidation_1-logloss:0.35870\n",
      "[23]\tvalidation_0-error:0.08980\tvalidation_0-logloss:0.24668\tvalidation_1-error:0.16734\tvalidation_1-logloss:0.35756\n",
      "[24]\tvalidation_0-error:0.08698\tvalidation_0-logloss:0.24095\tvalidation_1-error:0.16726\tvalidation_1-logloss:0.35649\n",
      "[25]\tvalidation_0-error:0.08589\tvalidation_0-logloss:0.23922\tvalidation_1-error:0.16669\tvalidation_1-logloss:0.35587\n",
      "[26]\tvalidation_0-error:0.08327\tvalidation_0-logloss:0.23434\tvalidation_1-error:0.16621\tvalidation_1-logloss:0.35495\n",
      "[27]\tvalidation_0-error:0.08141\tvalidation_0-logloss:0.23023\tvalidation_1-error:0.16581\tvalidation_1-logloss:0.35343\n",
      "[28]\tvalidation_0-error:0.07794\tvalidation_0-logloss:0.22463\tvalidation_1-error:0.16395\tvalidation_1-logloss:0.35246\n",
      "[29]\tvalidation_0-error:0.07490\tvalidation_0-logloss:0.22023\tvalidation_1-error:0.16315\tvalidation_1-logloss:0.35160\n",
      "[30]\tvalidation_0-error:0.07395\tvalidation_0-logloss:0.21834\tvalidation_1-error:0.16419\tvalidation_1-logloss:0.35170\n",
      "[31]\tvalidation_0-error:0.07220\tvalidation_0-logloss:0.21475\tvalidation_1-error:0.16403\tvalidation_1-logloss:0.35182\n",
      "[32]\tvalidation_0-error:0.07050\tvalidation_0-logloss:0.21275\tvalidation_1-error:0.16484\tvalidation_1-logloss:0.35212\n",
      "[33]\tvalidation_0-error:0.07006\tvalidation_0-logloss:0.21036\tvalidation_1-error:0.16484\tvalidation_1-logloss:0.35160\n",
      "[34]\tvalidation_0-error:0.06823\tvalidation_0-logloss:0.20793\tvalidation_1-error:0.16427\tvalidation_1-logloss:0.35177\n",
      "[35]\tvalidation_0-error:0.06617\tvalidation_0-logloss:0.20427\tvalidation_1-error:0.16556\tvalidation_1-logloss:0.35102\n",
      "[36]\tvalidation_0-error:0.06560\tvalidation_0-logloss:0.20277\tvalidation_1-error:0.16621\tvalidation_1-logloss:0.35119\n",
      "[37]\tvalidation_0-error:0.06355\tvalidation_0-logloss:0.19903\tvalidation_1-error:0.16548\tvalidation_1-logloss:0.35096\n",
      "[38]\tvalidation_0-error:0.06018\tvalidation_0-logloss:0.19453\tvalidation_1-error:0.16443\tvalidation_1-logloss:0.35039\n",
      "[39]\tvalidation_0-error:0.05960\tvalidation_0-logloss:0.19238\tvalidation_1-error:0.16532\tvalidation_1-logloss:0.35046\n",
      "[40]\tvalidation_0-error:0.05774\tvalidation_0-logloss:0.18945\tvalidation_1-error:0.16532\tvalidation_1-logloss:0.35029\n",
      "[41]\tvalidation_0-error:0.05714\tvalidation_0-logloss:0.18851\tvalidation_1-error:0.16427\tvalidation_1-logloss:0.35001\n",
      "[42]\tvalidation_0-error:0.05510\tvalidation_0-logloss:0.18560\tvalidation_1-error:0.16436\tvalidation_1-logloss:0.35016\n",
      "[43]\tvalidation_0-error:0.05452\tvalidation_0-logloss:0.18327\tvalidation_1-error:0.16419\tvalidation_1-logloss:0.35001\n",
      "[44]\tvalidation_0-error:0.05274\tvalidation_0-logloss:0.18038\tvalidation_1-error:0.16395\tvalidation_1-logloss:0.34994\n",
      "[45]\tvalidation_0-error:0.05046\tvalidation_0-logloss:0.17702\tvalidation_1-error:0.16298\tvalidation_1-logloss:0.34974\n",
      "[46]\tvalidation_0-error:0.04815\tvalidation_0-logloss:0.17379\tvalidation_1-error:0.16403\tvalidation_1-logloss:0.34998\n",
      "[47]\tvalidation_0-error:0.04766\tvalidation_0-logloss:0.17258\tvalidation_1-error:0.16411\tvalidation_1-logloss:0.34998\n",
      "[48]\tvalidation_0-error:0.04649\tvalidation_0-logloss:0.17012\tvalidation_1-error:0.16419\tvalidation_1-logloss:0.34991\n",
      "[49]\tvalidation_0-error:0.04466\tvalidation_0-logloss:0.16651\tvalidation_1-error:0.16274\tvalidation_1-logloss:0.34901\n",
      "[50]\tvalidation_0-error:0.04419\tvalidation_0-logloss:0.16488\tvalidation_1-error:0.16347\tvalidation_1-logloss:0.34895\n",
      "[51]\tvalidation_0-error:0.04347\tvalidation_0-logloss:0.16296\tvalidation_1-error:0.16315\tvalidation_1-logloss:0.34871\n",
      "[52]\tvalidation_0-error:0.04310\tvalidation_0-logloss:0.16201\tvalidation_1-error:0.16355\tvalidation_1-logloss:0.34867\n",
      "[53]\tvalidation_0-error:0.04202\tvalidation_0-logloss:0.16041\tvalidation_1-error:0.16331\tvalidation_1-logloss:0.34884\n",
      "[54]\tvalidation_0-error:0.04149\tvalidation_0-logloss:0.15877\tvalidation_1-error:0.16282\tvalidation_1-logloss:0.34904\n",
      "[55]\tvalidation_0-error:0.03952\tvalidation_0-logloss:0.15598\tvalidation_1-error:0.16210\tvalidation_1-logloss:0.34860\n",
      "[56]\tvalidation_0-error:0.03865\tvalidation_0-logloss:0.15435\tvalidation_1-error:0.16185\tvalidation_1-logloss:0.34873\n",
      "[57]\tvalidation_0-error:0.03827\tvalidation_0-logloss:0.15304\tvalidation_1-error:0.16153\tvalidation_1-logloss:0.34887\n",
      "[58]\tvalidation_0-error:0.03740\tvalidation_0-logloss:0.15113\tvalidation_1-error:0.16081\tvalidation_1-logloss:0.34854\n",
      "[59]\tvalidation_0-error:0.03629\tvalidation_0-logloss:0.14827\tvalidation_1-error:0.16121\tvalidation_1-logloss:0.34852\n",
      "[60]\tvalidation_0-error:0.03425\tvalidation_0-logloss:0.14623\tvalidation_1-error:0.16121\tvalidation_1-logloss:0.34874\n",
      "[61]\tvalidation_0-error:0.03395\tvalidation_0-logloss:0.14525\tvalidation_1-error:0.16065\tvalidation_1-logloss:0.34894\n",
      "[62]\tvalidation_0-error:0.03335\tvalidation_0-logloss:0.14380\tvalidation_1-error:0.16016\tvalidation_1-logloss:0.34899\n",
      "[63]\tvalidation_0-error:0.03191\tvalidation_0-logloss:0.14109\tvalidation_1-error:0.16065\tvalidation_1-logloss:0.34935\n",
      "[64]\tvalidation_0-error:0.03173\tvalidation_0-logloss:0.14021\tvalidation_1-error:0.16089\tvalidation_1-logloss:0.34909\n",
      "[65]\tvalidation_0-error:0.03153\tvalidation_0-logloss:0.13910\tvalidation_1-error:0.16105\tvalidation_1-logloss:0.34913\n",
      "[66]\tvalidation_0-error:0.02958\tvalidation_0-logloss:0.13671\tvalidation_1-error:0.16008\tvalidation_1-logloss:0.34914\n",
      "[67]\tvalidation_0-error:0.02943\tvalidation_0-logloss:0.13527\tvalidation_1-error:0.16048\tvalidation_1-logloss:0.34944\n",
      "[68]\tvalidation_0-error:0.02889\tvalidation_0-logloss:0.13344\tvalidation_1-error:0.15895\tvalidation_1-logloss:0.34965\n"
     ]
    },
    {
     "data": {
      "image/png": "[encoded data removed]",
      "text/plain": [
       "<Figure size 432x288 with 1 Axes>"
      ]
     },
     "metadata": {
      "needs_background": "light"
     },
     "output_type": "display_data"
    },
    {
     "data": {
      "image/png": "[encoded data removed]",
      "text/plain": [
       "<Figure size 432x288 with 1 Axes>"
      ]
     },
     "metadata": {
      "needs_background": "light"
     },
     "output_type": "display_data"
    }
   ],
   "source": [
    "### ploting the model behavior on train and validation datasets over epochs (FOR XGBoost)\n",
    "eval_set = [(x_train, y_train),(x_validation, y_validation)]\n",
    "model.fit(x_train, y_train, early_stopping_rounds=10, eval_metric=[\"error\", \"logloss\"], eval_set=eval_set, verbose=True)\n",
    "results = model.evals_result()\n",
    "epochs = len(results['validation_0']['error'])\n",
    "x_axis = range(0, epochs)\n",
    "# plot log loss\n",
    "fig, ax = plt.subplots()\n",
    "ax.plot(x_axis, results['validation_0']['logloss'], label='Train')\n",
    "ax.plot(x_axis, results['validation_1']['logloss'], label='Validation')\n",
    "ax.legend()\n",
    "plt.ylabel('log_loss')\n",
    "plt.title('XGBoost Log Loss')\n",
    "plt.show()\n",
    "# plot classification error\n",
    "fig, ax = plt.subplots()\n",
    "ax.plot(x_axis, results['validation_0']['error'], label='Train')\n",
    "ax.plot(x_axis, results['validation_1']['error'], label='Validation')\n",
    "ax.legend()\n",
    "plt.ylabel('Classification Error')\n",
    "plt.title('XGBoost Classification Error')\n",
    "plt.show()"
   ]
  },
  {
   "cell_type": "code",
   "execution_count": 13,
   "metadata": {},
   "outputs": [
    {
     "data": {
      "text/html": [
       "<div>\n",
       "<style scoped>\n",
       "    .dataframe tbody tr th:only-of-type {\n",
       "        vertical-align: middle;\n",
       "    }\n",
       "\n",
       "    .dataframe tbody tr th {\n",
       "        vertical-align: top;\n",
       "    }\n",
       "\n",
       "    .dataframe thead th {\n",
       "        text-align: right;\n",
       "    }\n",
       "</style>\n",
       "<table border=\"1\" class=\"dataframe\">\n",
       "  <thead>\n",
       "    <tr style=\"text-align: right;\">\n",
       "      <th></th>\n",
       "      <th>feature</th>\n",
       "      <th>importance</th>\n",
       "    </tr>\n",
       "  </thead>\n",
       "  <tbody>\n",
       "    <tr>\n",
       "      <th>193</th>\n",
       "      <td>topoElevationMean</td>\n",
       "      <td>0.030250</td>\n",
       "    </tr>\n",
       "    <tr>\n",
       "      <th>194</th>\n",
       "      <td>topoSlope</td>\n",
       "      <td>0.025221</td>\n",
       "    </tr>\n",
       "    <tr>\n",
       "      <th>190</th>\n",
       "      <td>ERA5_temperature_2m_dec</td>\n",
       "      <td>0.024537</td>\n",
       "    </tr>\n",
       "    <tr>\n",
       "      <th>46</th>\n",
       "      <td>ERA5_temperature_2m_mar</td>\n",
       "      <td>0.021924</td>\n",
       "    </tr>\n",
       "    <tr>\n",
       "      <th>14</th>\n",
       "      <td>ERA5_temperature_2m_jan</td>\n",
       "      <td>0.019920</td>\n",
       "    </tr>\n",
       "    <tr>\n",
       "      <th>...</th>\n",
       "      <td>...</td>\n",
       "      <td>...</td>\n",
       "    </tr>\n",
       "    <tr>\n",
       "      <th>38</th>\n",
       "      <td>S2_B7_mar</td>\n",
       "      <td>0.002399</td>\n",
       "    </tr>\n",
       "    <tr>\n",
       "      <th>140</th>\n",
       "      <td>S1_VV_sep</td>\n",
       "      <td>0.002388</td>\n",
       "    </tr>\n",
       "    <tr>\n",
       "      <th>155</th>\n",
       "      <td>S2_B12_oct</td>\n",
       "      <td>0.002362</td>\n",
       "    </tr>\n",
       "    <tr>\n",
       "      <th>23</th>\n",
       "      <td>S2_B8_feb</td>\n",
       "      <td>0.002088</td>\n",
       "    </tr>\n",
       "    <tr>\n",
       "      <th>0</th>\n",
       "      <td>Unnamed: 0</td>\n",
       "      <td>0.002022</td>\n",
       "    </tr>\n",
       "  </tbody>\n",
       "</table>\n",
       "<p>195 rows × 2 columns</p>\n",
       "</div>"
      ],
      "text/plain": [
       "                     feature  importance\n",
       "193        topoElevationMean    0.030250\n",
       "194                topoSlope    0.025221\n",
       "190  ERA5_temperature_2m_dec    0.024537\n",
       "46   ERA5_temperature_2m_mar    0.021924\n",
       "14   ERA5_temperature_2m_jan    0.019920\n",
       "..                       ...         ...\n",
       "38                 S2_B7_mar    0.002399\n",
       "140                S1_VV_sep    0.002388\n",
       "155               S2_B12_oct    0.002362\n",
       "23                 S2_B8_feb    0.002088\n",
       "0                 Unnamed: 0    0.002022\n",
       "\n",
       "[195 rows x 2 columns]"
      ]
     },
     "execution_count": 13,
     "metadata": {},
     "output_type": "execute_result"
    },
    {
     "data": {
      "image/png": "[encoded data removed]",
      "text/plain": [
       "<Figure size 750x450 with 1 Axes>"
      ]
     },
     "metadata": {
      "needs_background": "light"
     },
     "output_type": "display_data"
    }
   ],
   "source": [
    "## ROC metric and feature priority \n",
    "evaluate_model(x_train, y_train, x_validation, y_validation, model)"
   ]
  },
  {
   "cell_type": "code",
   "execution_count": 86,
   "metadata": {},
   "outputs": [
    {
     "name": "stdout",
     "output_type": "stream",
     "text": [
      "[0 1 1 1 1 0 1 0 1 1 1 1 0 1 1 1 1 0 0 1 1 0 0 1 1 1 1 1 0 0 0 0 0 1 1 1 0\n",
      " 1 1 0 1 1 1 1 1 0 1 1 1 1]\n"
     ]
    }
   ],
   "source": [
    "## Prediction with XGBoost Classifier\n",
    "test_nolabels_prediction = predictOnSet(model, test_nolabels)\n",
    "test_nolabels_prediction = np.int8(test_nolabels_prediction)\n",
    "savePrediction(test_nolabels_prediction, 'XGBCl_bestRF_Standard.csv')"
   ]
  },
  {
   "cell_type": "code",
   "execution_count": 21,
   "metadata": {},
   "outputs": [
    {
     "name": "stderr",
     "output_type": "stream",
     "text": [
      "/usr/local/lib/python3.9/site-packages/sklearn/base.py:324: UserWarning: Trying to unpickle estimator DecisionTreeClassifier from version 0.23.2 when using version 1.0.1. This might lead to breaking code or invalid results. Use at your own risk. For more info please refer to:\n",
      "https://scikit-learn.org/stable/modules/model_persistence.html#security-maintainability-limitations\n",
      "  warnings.warn(\n",
      "/usr/local/lib/python3.9/site-packages/sklearn/base.py:324: UserWarning: Trying to unpickle estimator RandomForestClassifier from version 0.23.2 when using version 1.0.1. This might lead to breaking code or invalid results. Use at your own risk. For more info please refer to:\n",
      "https://scikit-learn.org/stable/modules/model_persistence.html#security-maintainability-limitations\n",
      "  warnings.warn(\n"
     ]
    },
    {
     "ename": "ValueError",
     "evalue": "Invalid parameter min_impurity_split for estimator DecisionTreeClassifier(max_depth=8, max_features=0.30000000000000004,\n                       max_leaf_nodes=37). Check the list of available parameters with `estimator.get_params().keys()`.",
     "output_type": "error",
     "traceback": [
      "\u001b[0;31m---------------------------------------------------------------------------\u001b[0m",
      "\u001b[0;31mValueError\u001b[0m                                Traceback (most recent call last)",
      "\u001b[0;32m/var/folders/zg/9gnpzxf5429_p5r9cqlb3_1c0000gn/T/ipykernel_40650/1875310092.py\u001b[0m in \u001b[0;36m<module>\u001b[0;34m\u001b[0m\n\u001b[1;32m      4\u001b[0m \u001b[0;32mfor\u001b[0m \u001b[0mmodel\u001b[0m \u001b[0;32min\u001b[0m \u001b[0mmodelNameList\u001b[0m\u001b[0;34m:\u001b[0m\u001b[0;34m\u001b[0m\u001b[0;34m\u001b[0m\u001b[0m\n\u001b[1;32m      5\u001b[0m     \u001b[0mmodel\u001b[0m \u001b[0;34m=\u001b[0m \u001b[0mjoblib\u001b[0m\u001b[0;34m.\u001b[0m\u001b[0mload\u001b[0m\u001b[0;34m(\u001b[0m\u001b[0mmodel\u001b[0m\u001b[0;34m)\u001b[0m\u001b[0;34m\u001b[0m\u001b[0;34m\u001b[0m\u001b[0m\n\u001b[0;32m----> 6\u001b[0;31m     \u001b[0mmodel\u001b[0m\u001b[0;34m.\u001b[0m\u001b[0mfit\u001b[0m\u001b[0;34m(\u001b[0m\u001b[0mx_train\u001b[0m\u001b[0;34m,\u001b[0m \u001b[0my_train\u001b[0m\u001b[0;34m)\u001b[0m\u001b[0;34m\u001b[0m\u001b[0;34m\u001b[0m\u001b[0m\n\u001b[0m\u001b[1;32m      7\u001b[0m     \u001b[0my_hat\u001b[0m \u001b[0;34m=\u001b[0m \u001b[0mmodel\u001b[0m\u001b[0;34m.\u001b[0m\u001b[0mpredict\u001b[0m\u001b[0;34m(\u001b[0m\u001b[0mx_validation\u001b[0m\u001b[0;34m)\u001b[0m\u001b[0;34m\u001b[0m\u001b[0;34m\u001b[0m\u001b[0m\n\u001b[1;32m      8\u001b[0m     \u001b[0mf1\u001b[0m \u001b[0;34m=\u001b[0m \u001b[0mf1_score\u001b[0m\u001b[0;34m(\u001b[0m\u001b[0my_validation\u001b[0m\u001b[0;34m,\u001b[0m \u001b[0my_hat\u001b[0m\u001b[0;34m,\u001b[0m \u001b[0maverage\u001b[0m \u001b[0;34m=\u001b[0m\u001b[0;34m'binary'\u001b[0m\u001b[0;34m,\u001b[0m\u001b[0mzero_division\u001b[0m \u001b[0;34m=\u001b[0m \u001b[0;36m0\u001b[0m\u001b[0;34m)\u001b[0m\u001b[0;34m\u001b[0m\u001b[0;34m\u001b[0m\u001b[0m\n",
      "\u001b[0;32m/usr/local/lib/python3.9/site-packages/sklearn/ensemble/_forest.py\u001b[0m in \u001b[0;36mfit\u001b[0;34m(self, X, y, sample_weight)\u001b[0m\n\u001b[1;32m    429\u001b[0m                 \u001b[0mrandom_state\u001b[0m\u001b[0;34m.\u001b[0m\u001b[0mrandint\u001b[0m\u001b[0;34m(\u001b[0m\u001b[0mMAX_INT\u001b[0m\u001b[0;34m,\u001b[0m \u001b[0msize\u001b[0m\u001b[0;34m=\u001b[0m\u001b[0mlen\u001b[0m\u001b[0;34m(\u001b[0m\u001b[0mself\u001b[0m\u001b[0;34m.\u001b[0m\u001b[0mestimators_\u001b[0m\u001b[0;34m)\u001b[0m\u001b[0;34m)\u001b[0m\u001b[0;34m\u001b[0m\u001b[0;34m\u001b[0m\u001b[0m\n\u001b[1;32m    430\u001b[0m \u001b[0;34m\u001b[0m\u001b[0m\n\u001b[0;32m--> 431\u001b[0;31m             trees = [\n\u001b[0m\u001b[1;32m    432\u001b[0m                 \u001b[0mself\u001b[0m\u001b[0;34m.\u001b[0m\u001b[0m_make_estimator\u001b[0m\u001b[0;34m(\u001b[0m\u001b[0mappend\u001b[0m\u001b[0;34m=\u001b[0m\u001b[0;32mFalse\u001b[0m\u001b[0;34m,\u001b[0m \u001b[0mrandom_state\u001b[0m\u001b[0;34m=\u001b[0m\u001b[0mrandom_state\u001b[0m\u001b[0;34m)\u001b[0m\u001b[0;34m\u001b[0m\u001b[0;34m\u001b[0m\u001b[0m\n\u001b[1;32m    433\u001b[0m                 \u001b[0;32mfor\u001b[0m \u001b[0mi\u001b[0m \u001b[0;32min\u001b[0m \u001b[0mrange\u001b[0m\u001b[0;34m(\u001b[0m\u001b[0mn_more_estimators\u001b[0m\u001b[0;34m)\u001b[0m\u001b[0;34m\u001b[0m\u001b[0;34m\u001b[0m\u001b[0m\n",
      "\u001b[0;32m/usr/local/lib/python3.9/site-packages/sklearn/ensemble/_forest.py\u001b[0m in \u001b[0;36m<listcomp>\u001b[0;34m(.0)\u001b[0m\n\u001b[1;32m    430\u001b[0m \u001b[0;34m\u001b[0m\u001b[0m\n\u001b[1;32m    431\u001b[0m             trees = [\n\u001b[0;32m--> 432\u001b[0;31m                 \u001b[0mself\u001b[0m\u001b[0;34m.\u001b[0m\u001b[0m_make_estimator\u001b[0m\u001b[0;34m(\u001b[0m\u001b[0mappend\u001b[0m\u001b[0;34m=\u001b[0m\u001b[0;32mFalse\u001b[0m\u001b[0;34m,\u001b[0m \u001b[0mrandom_state\u001b[0m\u001b[0;34m=\u001b[0m\u001b[0mrandom_state\u001b[0m\u001b[0;34m)\u001b[0m\u001b[0;34m\u001b[0m\u001b[0;34m\u001b[0m\u001b[0m\n\u001b[0m\u001b[1;32m    433\u001b[0m                 \u001b[0;32mfor\u001b[0m \u001b[0mi\u001b[0m \u001b[0;32min\u001b[0m \u001b[0mrange\u001b[0m\u001b[0;34m(\u001b[0m\u001b[0mn_more_estimators\u001b[0m\u001b[0;34m)\u001b[0m\u001b[0;34m\u001b[0m\u001b[0;34m\u001b[0m\u001b[0m\n\u001b[1;32m    434\u001b[0m             ]\n",
      "\u001b[0;32m/usr/local/lib/python3.9/site-packages/sklearn/ensemble/_base.py\u001b[0m in \u001b[0;36m_make_estimator\u001b[0;34m(self, append, random_state)\u001b[0m\n\u001b[1;32m    157\u001b[0m         \"\"\"\n\u001b[1;32m    158\u001b[0m         \u001b[0mestimator\u001b[0m \u001b[0;34m=\u001b[0m \u001b[0mclone\u001b[0m\u001b[0;34m(\u001b[0m\u001b[0mself\u001b[0m\u001b[0;34m.\u001b[0m\u001b[0mbase_estimator_\u001b[0m\u001b[0;34m)\u001b[0m\u001b[0;34m\u001b[0m\u001b[0;34m\u001b[0m\u001b[0m\n\u001b[0;32m--> 159\u001b[0;31m         \u001b[0mestimator\u001b[0m\u001b[0;34m.\u001b[0m\u001b[0mset_params\u001b[0m\u001b[0;34m(\u001b[0m\u001b[0;34m**\u001b[0m\u001b[0;34m{\u001b[0m\u001b[0mp\u001b[0m\u001b[0;34m:\u001b[0m \u001b[0mgetattr\u001b[0m\u001b[0;34m(\u001b[0m\u001b[0mself\u001b[0m\u001b[0;34m,\u001b[0m \u001b[0mp\u001b[0m\u001b[0;34m)\u001b[0m \u001b[0;32mfor\u001b[0m \u001b[0mp\u001b[0m \u001b[0;32min\u001b[0m \u001b[0mself\u001b[0m\u001b[0;34m.\u001b[0m\u001b[0mestimator_params\u001b[0m\u001b[0;34m}\u001b[0m\u001b[0;34m)\u001b[0m\u001b[0;34m\u001b[0m\u001b[0;34m\u001b[0m\u001b[0m\n\u001b[0m\u001b[1;32m    160\u001b[0m \u001b[0;34m\u001b[0m\u001b[0m\n\u001b[1;32m    161\u001b[0m         \u001b[0;31m# TODO: Remove in v1.2\u001b[0m\u001b[0;34m\u001b[0m\u001b[0;34m\u001b[0m\u001b[0m\n",
      "\u001b[0;32m/usr/local/lib/python3.9/site-packages/sklearn/base.py\u001b[0m in \u001b[0;36mset_params\u001b[0;34m(self, **params)\u001b[0m\n\u001b[1;32m    238\u001b[0m             \u001b[0mkey\u001b[0m\u001b[0;34m,\u001b[0m \u001b[0mdelim\u001b[0m\u001b[0;34m,\u001b[0m \u001b[0msub_key\u001b[0m \u001b[0;34m=\u001b[0m \u001b[0mkey\u001b[0m\u001b[0;34m.\u001b[0m\u001b[0mpartition\u001b[0m\u001b[0;34m(\u001b[0m\u001b[0;34m\"__\"\u001b[0m\u001b[0;34m)\u001b[0m\u001b[0;34m\u001b[0m\u001b[0;34m\u001b[0m\u001b[0m\n\u001b[1;32m    239\u001b[0m             \u001b[0;32mif\u001b[0m \u001b[0mkey\u001b[0m \u001b[0;32mnot\u001b[0m \u001b[0;32min\u001b[0m \u001b[0mvalid_params\u001b[0m\u001b[0;34m:\u001b[0m\u001b[0;34m\u001b[0m\u001b[0;34m\u001b[0m\u001b[0m\n\u001b[0;32m--> 240\u001b[0;31m                 raise ValueError(\n\u001b[0m\u001b[1;32m    241\u001b[0m                     \u001b[0;34m\"Invalid parameter %s for estimator %s. \"\u001b[0m\u001b[0;34m\u001b[0m\u001b[0;34m\u001b[0m\u001b[0m\n\u001b[1;32m    242\u001b[0m                     \u001b[0;34m\"Check the list of available parameters \"\u001b[0m\u001b[0;34m\u001b[0m\u001b[0;34m\u001b[0m\u001b[0m\n",
      "\u001b[0;31mValueError\u001b[0m: Invalid parameter min_impurity_split for estimator DecisionTreeClassifier(max_depth=8, max_features=0.30000000000000004,\n                       max_leaf_nodes=37). Check the list of available parameters with `estimator.get_params().keys()`."
     ]
    }
   ],
   "source": [
    "## Calculating F1 and ROC-AUC metrics for all produced models\n",
    "modelNameList = ['rf_RandSearchStand.pkl']\n",
    "\n",
    "for model in modelNameList:\n",
    "    model = joblib.load(model)\n",
    "    model.fit(x_train, y_train) \n",
    "    y_hat = model.predict(x_validation)\n",
    "    f1 = f1_score(y_validation, y_hat, average ='binary',zero_division = 0)\n",
    "    roc = roc_auc_score(y_validation, y_hat)\n",
    "    print(\"quality of prediction of \" + str(model) + \", f1_score:\", f1, \", ROC: \", roc,\"\\n\",)\n",
    "\n"
   ]
  }
 ],
 "metadata": {
  "interpreter": {
   "hash": "aee8b7b246df8f9039afb4144a1f6fd8d2ca17a180786b69acc140d282b71a49"
  },
  "kernelspec": {
   "display_name": "Python 3.9.9 64-bit",
   "language": "python",
   "name": "python3"
  },
  "language_info": {
   "codemirror_mode": {
    "name": "ipython",
    "version": 3
   },
   "file_extension": ".py",
   "mimetype": "text/x-python",
   "name": "python",
   "nbconvert_exporter": "python",
   "pygments_lexer": "ipython3",
   "version": "3.9.9"
  },
  "orig_nbformat": 4
 },
 "nbformat": 4,
 "nbformat_minor": 2
}
